{
 "cells": [
  {
   "cell_type": "raw",
   "source": [
    "# Python Examples\n",
    "This Page ...\n"
   ],
   "metadata": {
    "collapsed": false
   }
  },
  {
   "cell_type": "raw",
   "source": [
    "\n",
    "## MVBLSClassifier\n"
   ],
   "metadata": {
    "collapsed": false,
    "pycharm": {
     "name": "#%% raw\n"
    }
   }
  },
  {
   "cell_type": "code",
   "execution_count": null,
   "metadata": {
    "collapsed": true,
    "pycharm": {
     "name": "#%%\n"
    }
   },
   "outputs": [],
   "source": [
    "import numpy as np\n",
    "from MVBLS import MVBLSClassifier\n",
    "from sklearn.linear_model import RidgeClassifier\n",
    "\n",
    "data = np.load('data/clf_data.npz')\n",
    "data_train = {}\n",
    "data_train['view1'] = data['X_train'][:, :128]\n",
    "data_train['view2'] = data['X_train'][:, 128:]\n",
    "data_test = {}\n",
    "data_test['view1'] = data['X_test'][:, :128]\n",
    "data_test['view2'] = data['X_test'][:, 128:]\n",
    "model = RidgeClassifier(alpha=0.01)\n",
    "model.fit(data['X_train'], data['y_train'])\n",
    "print('ACC of Baseline: %.3f' % model.score(data['X_test'], data['y_test']))\n",
    "\n",
    "model = MVBLSClassifier(view_list=data_train.keys(), reg_lambda=0.01, n_nodes_Z=50, n_nodes_H=6000, n_groups_Z=10, reg_alpha=0.01,\n",
    "                        random_state=1)\n",
    "model.fit(data_train, data['y_train'])\n",
    "print('ACC of MVBLSClassifier: %.3f' % model.score(data_test, data['y_test']))"
   ]
  },
  {
   "cell_type": "raw",
   "source": [
    "\n",
    "## MVBLSRegressor\n"
   ],
   "metadata": {
    "collapsed": false,
    "pycharm": {
     "name": "#%% raw\n"
    }
   }
  },
  {
   "cell_type": "code",
   "execution_count": null,
   "outputs": [],
   "source": [
    "import numpy as np\n",
    "from MVBLS import MVBLSRegressor\n",
    "from sklearn.linear_model import Ridge\n",
    "\n",
    "data = np.load('data/reg_data.npz')\n",
    "data_train = {}\n",
    "data_train['view1'] = data['X_train'][:, :128]\n",
    "data_train['view2'] = data['X_train'][:, 128:]\n",
    "data_test = {}\n",
    "data_test['view1'] = data['X_test'][:, :128]\n",
    "data_test['view2'] = data['X_test'][:, 128:]\n",
    "model = Ridge(alpha=0.01)\n",
    "model.fit(data['X_train'], data['y_train'])\n",
    "print('R^2 of Baseline: %.3f' % model.score(data['X_test'], data['y_test']))\n",
    "\n",
    "model = MVBLSRegressor(view_list=data_train.keys(), reg_lambda=0.01, n_nodes_Z=50, n_nodes_H=6000, n_groups_Z=10, reg_alpha=0.01)\n",
    "model.fit(data_train, data['y_train'])\n",
    "print('R^2 of  MVBLSRegressor: %.3f' % model.score(data_test, data['y_test']))"
   ],
   "metadata": {
    "collapsed": false,
    "pycharm": {
     "name": "#%%\n"
    }
   }
  },
  {
   "cell_type": "raw",
   "source": [
    "\n",
    "## SemiMVBLSClassifier\n"
   ],
   "metadata": {
    "collapsed": false,
    "pycharm": {
     "name": "#%% raw\n"
    }
   }
  },
  {
   "cell_type": "code",
   "source": [
    "import numpy as np\n",
    "from MVBLS import SemiMVBLSClassifier\n",
    "from sklearn.linear_model import RidgeClassifier\n",
    "\n",
    "data = np.load('data/clf_data.npz')\n",
    "few_short_index = data['few_short_index']\n",
    "data_train = {}\n",
    "unlabeled_data_train = {}\n",
    "data_train['view1'] = data['X_train'][:, :128][few_short_index]\n",
    "data_train['view2'] = data['X_train'][:, 128:][few_short_index]\n",
    "unlabeled_data_train['view1'] = data['X_train'][:, :128][~few_short_index]\n",
    "unlabeled_data_train['view2'] = data['X_train'][:, 128:][~few_short_index]\n",
    "data_test = {}\n",
    "data_test['view1'] = data['X_test'][:, :128]\n",
    "data_test['view2'] = data['X_test'][:, 128:]\n",
    "\n",
    "model = RidgeClassifier(alpha=0.01)\n",
    "model.fit(data['X_train'][few_short_index], data['y_train'][few_short_index])\n",
    "print('ACC of Baseline: %.3f' % model.score(data['X_test'], data['y_test']))\n",
    "\n",
    "model = SemiMVBLSClassifier(view_list=data_train.keys(), unlabeled_data=unlabeled_data_train, reg_lambda=0.01, n_nodes_Z=50, n_nodes_H=6000,\n",
    "                            n_groups_Z=10, reg_alpha=0.01, reg_laplacian=0.01, k_neighbors=10, sigma=1.0)\n",
    "model.fit(data_train, data['y_train'][few_short_index])\n",
    "print('ACC of SemiMVBLSClassifier: %.3f' % model.score(data_test, data['y_test']))"
   ],
   "metadata": {
    "collapsed": false,
    "pycharm": {
     "name": "#%%\n"
    }
   },
   "execution_count": null,
   "outputs": []
  },
  {
   "cell_type": "raw",
   "source": [
    "\n",
    "## SemiMVBLSRegressor\n"
   ],
   "metadata": {
    "collapsed": false,
    "pycharm": {
     "name": "#%% raw\n"
    }
   }
  },
  {
   "cell_type": "code",
   "source": [
    "import numpy as np\n",
    "from MVBLS import SemiMVBLSRegressor\n",
    "from sklearn.linear_model import Ridge\n",
    "\n",
    "data = np.load('data/reg_data.npz')\n",
    "few_short_index = data['few_short_index']\n",
    "data_train = {}\n",
    "unlabeled_data_train = {}\n",
    "data_train['view1'] = data['X_train'][:, :128][few_short_index]\n",
    "data_train['view2'] = data['X_train'][:, 128:][few_short_index]\n",
    "unlabeled_data_train['view1'] = data['X_train'][:, :128][~few_short_index]\n",
    "unlabeled_data_train['view2'] = data['X_train'][:, 128:][~few_short_index]\n",
    "data_test = {}\n",
    "data_test['view1'] = data['X_test'][:, :128]\n",
    "data_test['view2'] = data['X_test'][:, 128:]\n",
    "\n",
    "model = Ridge(alpha=0.01)\n",
    "model.fit(data['X_train'][few_short_index], data['y_train'][few_short_index])\n",
    "print('R^2 of Baseline: %.3f' % model.score(data['X_test'], data['y_test']))\n",
    "\n",
    "model = SemiMVBLSRegressor(view_list=data_train.keys(), unlabeled_data=unlabeled_data_train, reg_lambda=0.01, n_nodes_Z=50, n_nodes_H=6000,\n",
    "                           n_groups_Z=10, reg_alpha=0.01, reg_laplacian=0.01, k_neighbors=10, sigma=1.0)\n",
    "model.fit(data_train, data['y_train'][few_short_index])\n",
    "print('R^2 of SemiMVBLSRegressor: %.3f' % model.score(data_test, data['y_test']))"
   ],
   "metadata": {
    "collapsed": false,
    "pycharm": {
     "name": "#%%\n"
    }
   },
   "execution_count": null,
   "outputs": []
  }
 ],
 "metadata": {
  "kernelspec": {
   "display_name": "Python 3",
   "language": "python",
   "name": "python3"
  },
  "language_info": {
   "codemirror_mode": {
    "name": "ipython",
    "version": 2
   },
   "file_extension": ".py",
   "mimetype": "text/x-python",
   "name": "python",
   "nbconvert_exporter": "python",
   "pygments_lexer": "ipython2",
   "version": "2.7.6"
  }
 },
 "nbformat": 4,
 "nbformat_minor": 0
}